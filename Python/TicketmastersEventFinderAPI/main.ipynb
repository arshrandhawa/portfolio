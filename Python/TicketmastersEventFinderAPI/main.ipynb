{
 "cells": [
  {
   "cell_type": "code",
   "execution_count": 1,
   "id": "b2fe0e3f-00da-421c-a737-9cff75fe33ef",
   "metadata": {},
   "outputs": [],
   "source": [
    "#!/usr/bin/env python\n",
    "# coding: utf-8\n",
    "\n",
    "import os\n",
    "from dotenv import load_dotenv\n",
    "from fastapi import FastAPI\n",
    "import requests\n",
    "import pandas as pd\n",
    "\n"
   ]
  },
  {
   "cell_type": "code",
   "execution_count": null,
   "id": "b770c107-c689-4158-b16e-37de46f4ddc8",
   "metadata": {},
   "outputs": [],
   "source": [
    "\n",
    "# Change working directory to the correct one\n",
    "project_path = os.getcwd()  # Get the current working directory inside the container\n",
    "print(f\"Project Path: {project_path}\")  # Debugging\n",
    "\n",
    "\n",
    "# Load environment variables\n",
    "load_dotenv()\n",
    "\n",
    "# Retrieve SECRET_KEY\n",
    "SECRET_KEY = os.getenv('SECRET_KEY')\n"
   ]
  },
  {
   "cell_type": "code",
   "execution_count": 35,
   "id": "f5b9556f-4436-433c-99a9-f2de685081b7",
   "metadata": {},
   "outputs": [],
   "source": [
    "from fastapi import FastAPI\n",
    "import requests\n",
    "\n",
    "\n",
    "app = FastAPI()\n",
    "\n",
    "API_KEY = SECRET_KEY\n",
    "BASE_URL = \"https://app.ticketmaster.com/discovery/v2/events.json\"\n",
    "\n",
    "@app.get(\"/events/\")\n",
    "def get_events(city: str):\n",
    "    params = {\n",
    "        \"apikey\": API_KEY,\n",
    "        \"city\": city\n",
    "    }\n",
    "    response = requests.get(BASE_URL, params=params)\n",
    "    data = response.json()\n",
    "    \n",
    "    if \"_embedded\" in data:\n",
    "        events = data[\"_embedded\"][\"events\"]\n",
    "        return [\n",
    "            {\n",
    "                \"name\": event[\"name\"],\n",
    "                \"date\": event[\"dates\"][\"start\"][\"localDate\"],\n",
    "                \"venue\": event[\"_embedded\"][\"venues\"][0][\"name\"],\n",
    "                \"url\": event[\"url\"],\n",
    "                \"price_min\": event[\"priceRanges\"][0][\"min\"],\n",
    "                \"price_max\": event[\"priceRanges\"][0][\"max\"]\n",
    "            }\n",
    "            for event in events\n",
    "\n",
    "        ]\n",
    "    else:\n",
    "        return {\"message\": \"No events found\"}\n",
    "\n"
   ]
  },
  {
   "cell_type": "code",
   "execution_count": 37,
   "id": "6cf9204e-7b1c-4933-8cc6-d617859776a8",
   "metadata": {},
   "outputs": [],
   "source": [
    "# Testing if get_events is working corrected and evaluate the format of the data \n",
    "#get_events(\"Chandler\")"
   ]
  },
  {
   "cell_type": "code",
   "execution_count": 38,
   "id": "12dc4ed8-68f9-4d07-b88c-da1a10efc908",
   "metadata": {},
   "outputs": [],
   "source": [
    "import pandas as pd\n",
    "\n",
    "def print_events_pandas(events, city):\n",
    "    if not events:\n",
    "        print(f\"No events found in {city}.\")\n",
    "        return\n",
    "\n",
    "    formatted_events = []\n",
    "    for event in events:\n",
    "        formatted_events.append({\n",
    "            \"Venue\": event[\"venue\"],\n",
    "            \"Event Name\": event[\"name\"],\n",
    "            \"Date\": event[\"date\"],\n",
    "            \"Price Range\": f'{event[\"price_min\"]}-{event[\"price_max\"]}'\n",
    "        })\n",
    "\n",
    "    # Convert to pandas DataFrame\n",
    "    df = pd.DataFrame(formatted_events)\n",
    "    df.index += 1  # Start index from 1 for readability\n",
    "\n",
    "    #For better readibility, group the output by venue and print Event, Date, and Price Range\n",
    "    print(f\"\\nEvents in {city}:\")\n",
    "    for venue in df[\"Venue\"].unique():\n",
    "        venue_events = df[df[\"Venue\"] == venue]\n",
    "        print(f\"\\nVenue: {venue}\")\n",
    "        print(venue_events[[\"Event Name\", \"Date\", \"Price Range\"]].to_string(index=False))\n",
    "\n"
   ]
  },
  {
   "cell_type": "code",
   "execution_count": 39,
   "id": "5fe38b29-0158-48b7-bd23-cb4df35c8573",
   "metadata": {},
   "outputs": [
    {
     "name": "stdout",
     "output_type": "stream",
     "text": [
      "\n",
      "Events in Chandler:\n",
      "\n",
      "Venue: Chandler Center for the Arts\n",
      "                                                        Event Name       Date Price Range\n",
      "                                                     Drumline Live 2025-03-08   38.0-54.0\n",
      "    R.E.S.P.E.C.T. - A Celebration of the Music of Aretha Franklin 2025-02-15   38.0-58.0\n",
      "                                      Cirque Mechanics: Pedal Punk 2025-04-11   44.0-64.0\n",
      "                                                      Wizard of Oz 2025-03-15   38.0-58.0\n",
      "                           Celtic Spells Featuring Máiréad Nesbitt 2025-03-16   34.0-54.0\n",
      "                                        International Guitar Night 2025-02-23   28.0-48.0\n",
      "                                     Piano Battle: Andreas vs Paul 2025-04-13   28.0-48.0\n",
      "                                                 Syncopated Ladies 2025-02-21   24.0-54.0\n",
      "                                           The Rat Pack in Concert 2025-06-28   36.0-61.0\n",
      "                                                      Wizard of Oz 2025-03-14   38.0-58.0\n",
      "                                                      Wizard of Oz 2025-03-15   38.0-58.0\n",
      "               The Redeemer: Music on the Life of Jesus the Christ 2025-03-29   35.0-71.0\n",
      "Shakespeare In Jazz: Daniel Kelly Trio with Raina Sokolov-Gonzales 2025-04-04   32.0-44.0\n",
      "                                  Dancing Queen, The Songs of Abba 2025-02-16   24.0-38.0\n",
      "\n",
      "Venue: Gila River Resorts & Casinos - Wild Horse Pass\n",
      "                                Event Name       Date Price Range\n",
      "                    Piano Men: Generations 2025-03-09   30.0-40.0\n",
      "                       One of These Nights 2025-02-21   30.0-40.0\n",
      " TAY TAY DANCE PARTY FEATURING DJ SWIFTIE  2025-02-15   29.0-69.0\n",
      "                             Jimmy O. Yang 2025-02-14   59.0-99.0\n",
      "                        Jefferson Starship 2025-02-13   25.0-75.0\n",
      "                             Jimmy O. Yang 2025-02-14  69.0-109.0\n"
     ]
    }
   ],
   "source": [
    "city_name = \"Chandler\"\n",
    "events = get_events(city_name)  # Fetch events from Ticketmaster API\n",
    "\n",
    "print_events_pandas(events, city_name)  # Display output using pandas\n"
   ]
  }
 ],
 "metadata": {
  "kernelspec": {
   "display_name": "Python 3 (ipykernel)",
   "language": "python",
   "name": "python3"
  },
  "language_info": {
   "codemirror_mode": {
    "name": "ipython",
    "version": 3
   },
   "file_extension": ".py",
   "mimetype": "text/x-python",
   "name": "python",
   "nbconvert_exporter": "python",
   "pygments_lexer": "ipython3",
   "version": "3.12.9"
  }
 },
 "nbformat": 4,
 "nbformat_minor": 5
}
